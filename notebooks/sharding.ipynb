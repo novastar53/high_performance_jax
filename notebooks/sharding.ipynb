{
 "cells": [
  {
   "cell_type": "markdown",
   "metadata": {
    "id": "P14I5lii7lDL"
   },
   "source": [
    "# Data Sharding Across Devices\n"
   ]
  },
  {
   "cell_type": "code",
   "execution_count": 2,
   "metadata": {
    "colab": {
     "base_uri": "https://localhost:8080/"
    },
    "id": "raEPUBEj7lDM",
    "outputId": "4ffd7ece-20dc-4f1f-d7cb-0d82831044b7"
   },
   "outputs": [
    {
     "name": "stdout",
     "output_type": "stream",
     "text": [
      "Running on darwin\n"
     ]
    }
   ],
   "source": [
    "from pathlib import Path\n",
    "import sys\n",
    "\n",
    "from typing import Literal\n",
    "\n",
    "import jax\n",
    "\n",
    "import os\n",
    "\n",
    "#print(os.environ[\"LIBTPU_INIT_ARGS\"])\n",
    "\n",
    "platform : Literal[\"darwin\", \"colab\", \"cuda\", \"tpu\"] = \"darwin\"\n",
    "\n",
    "try:\n",
    "    import google.colab\n",
    "    platform = \"colab\"\n",
    "except ImportError:\n",
    "    devices = jax.devices()\n",
    "    if any(d.platform == \"gpu\" for d in devices):\n",
    "        platform = \"cuda\"\n",
    "    elif any(d.platform == \"tpu\" for d in devices):\n",
    "        platform = \"tpu\"\n",
    "\n",
    "print(f\"Running on {platform}\")\n",
    "\n",
    "if platform == \"colab\":\n",
    "    !git clone https://github.com/novastar53/high_performance_jax\n",
    "    !cd high_performance_jax && git pull\n",
    "    !git clone https://github.com/novastar53/deepkit\n",
    "    !cd deepkit && git pull\n",
    "    hpj_dir = str(Path().absolute() / \"high_performance_jax\" / \"src\" )\n",
    "    dt_dir = str(Path().absolute() / \"deepkit\" / \"src\" )\n",
    "    sys.path.append(hpj_dir)\n",
    "    print(hpj_dir)\n",
    "    sys.path.append(dt_dir)\n",
    "    print(dt_dir)"
   ]
  },
  {
   "cell_type": "code",
   "execution_count": 3,
   "metadata": {
    "colab": {
     "base_uri": "https://localhost:8080/"
    },
    "id": "RGbIGN8L7lDM",
    "outputId": "20835f1d-a83d-4e6e-bcc1-63279a80178d"
   },
   "outputs": [
    {
     "name": "stdout",
     "output_type": "stream",
     "text": [
      "Devices:\n",
      "1. cpu\n"
     ]
    }
   ],
   "source": [
    "import os\n",
    "\n",
    "#print(os.environ[\"LIBTPU_INIT_ARGS\"])\n",
    "#os.environ[\"LIBTPU_INIT_ARGS\"] = \"--xla_enable_async_all_gather=true TPU_MEGACORE=MEGACORE_DENSE\"\n",
    "#print(os.environ[\"LIBTPU_INIT_ARGS\"])\n",
    "\n",
    "from deepkit.utils import timeit\n",
    "from high_performance_jax.single_chip_performance import *\n",
    "import matplotlib.pyplot as plt\n",
    "\n",
    "dtype = jnp.bfloat16\n",
    "devices = jax.devices()\n",
    "print(\"Devices:\")\n",
    "for i,d in enumerate(devices):\n",
    "  print(f\"{i+1}. {d.device_kind}\")    # e.g. “TPU v3”"
   ]
  },
  {
   "cell_type": "code",
   "execution_count": 14,
   "metadata": {
    "colab": {
     "base_uri": "https://localhost:8080/",
     "height": 193
    },
    "id": "iT0fCCet72yo",
    "outputId": "9225d972-0b3c-4598-a6a5-4517dd5d36be"
   },
   "outputs": [
    {
     "data": {
      "text/html": [
       "<pre style=\"white-space:pre;overflow-x:auto;line-height:normal;font-family:Menlo,'DejaVu Sans Mono',consolas,'Courier New',monospace\"><span style=\"color: #ffffff; text-decoration-color: #ffffff; background-color: #393b79\">                         </span>\n",
       "<span style=\"color: #ffffff; text-decoration-color: #ffffff; background-color: #393b79\">                         </span>\n",
       "<span style=\"color: #ffffff; text-decoration-color: #ffffff; background-color: #393b79\">                         </span>\n",
       "<span style=\"color: #ffffff; text-decoration-color: #ffffff; background-color: #393b79\">                         </span>\n",
       "<span style=\"color: #ffffff; text-decoration-color: #ffffff; background-color: #393b79\">                         </span>\n",
       "<span style=\"color: #ffffff; text-decoration-color: #ffffff; background-color: #393b79\">          GPU 0          </span>\n",
       "<span style=\"color: #ffffff; text-decoration-color: #ffffff; background-color: #393b79\">                         </span>\n",
       "<span style=\"color: #ffffff; text-decoration-color: #ffffff; background-color: #393b79\">                         </span>\n",
       "<span style=\"color: #ffffff; text-decoration-color: #ffffff; background-color: #393b79\">                         </span>\n",
       "<span style=\"color: #ffffff; text-decoration-color: #ffffff; background-color: #393b79\">                         </span>\n",
       "<span style=\"color: #ffffff; text-decoration-color: #ffffff; background-color: #393b79\">                         </span>\n",
       "</pre>\n"
      ],
      "text/plain": [
       "\u001b[38;2;255;255;255;48;2;57;59;121m                         \u001b[0m\n",
       "\u001b[38;2;255;255;255;48;2;57;59;121m                         \u001b[0m\n",
       "\u001b[38;2;255;255;255;48;2;57;59;121m                         \u001b[0m\n",
       "\u001b[38;2;255;255;255;48;2;57;59;121m                         \u001b[0m\n",
       "\u001b[38;2;255;255;255;48;2;57;59;121m                         \u001b[0m\n",
       "\u001b[38;2;255;255;255;48;2;57;59;121m          \u001b[0m\u001b[38;2;255;255;255;48;2;57;59;121mGPU 0\u001b[0m\u001b[38;2;255;255;255;48;2;57;59;121m          \u001b[0m\n",
       "\u001b[38;2;255;255;255;48;2;57;59;121m                         \u001b[0m\n",
       "\u001b[38;2;255;255;255;48;2;57;59;121m                         \u001b[0m\n",
       "\u001b[38;2;255;255;255;48;2;57;59;121m                         \u001b[0m\n",
       "\u001b[38;2;255;255;255;48;2;57;59;121m                         \u001b[0m\n",
       "\u001b[38;2;255;255;255;48;2;57;59;121m                         \u001b[0m\n"
      ]
     },
     "metadata": {},
     "output_type": "display_data"
    }
   ],
   "source": [
    "A = jnp.ones((1024, 1024))\n",
    "jax.debug.visualize_array_sharding(A)"
   ]
  },
  {
   "cell_type": "markdown",
   "metadata": {
    "id": "srdVeJPBpajy"
   },
   "source": []
  },
  {
   "cell_type": "code",
   "execution_count": 15,
   "metadata": {
    "id": "wvOOHg1m8RBF"
   },
   "outputs": [
    {
     "name": "stdout",
     "output_type": "stream",
     "text": [
      "[[CudaDevice(id=0) CudaDevice(id=1)]\n",
      " [CudaDevice(id=2) CudaDevice(id=3)]\n",
      " [CudaDevice(id=4) CudaDevice(id=5)]\n",
      " [CudaDevice(id=6) CudaDevice(id=7)]]\n"
     ]
    },
    {
     "data": {
      "text/html": [
       "<pre style=\"white-space:pre;overflow-x:auto;line-height:normal;font-family:Menlo,'DejaVu Sans Mono',consolas,'Courier New',monospace\"><span style=\"color: #ffffff; text-decoration-color: #ffffff; background-color: #393b79\">         </span><span style=\"color: #ffffff; text-decoration-color: #ffffff; background-color: #d6616b\">         </span><span style=\"color: #ffffff; text-decoration-color: #ffffff; background-color: #8ca252\">         </span><span style=\"color: #ffffff; text-decoration-color: #ffffff; background-color: #de9ed6\">         </span>\n",
       "<span style=\"color: #ffffff; text-decoration-color: #ffffff; background-color: #393b79\">         </span><span style=\"color: #ffffff; text-decoration-color: #ffffff; background-color: #d6616b\">         </span><span style=\"color: #ffffff; text-decoration-color: #ffffff; background-color: #8ca252\">         </span><span style=\"color: #ffffff; text-decoration-color: #ffffff; background-color: #de9ed6\">         </span>\n",
       "<span style=\"color: #ffffff; text-decoration-color: #ffffff; background-color: #393b79\">  GPU 0  </span><span style=\"color: #ffffff; text-decoration-color: #ffffff; background-color: #d6616b\">  GPU 2  </span><span style=\"color: #ffffff; text-decoration-color: #ffffff; background-color: #8ca252\">  GPU 4  </span><span style=\"color: #ffffff; text-decoration-color: #ffffff; background-color: #de9ed6\">  GPU 6  </span>\n",
       "<span style=\"color: #ffffff; text-decoration-color: #ffffff; background-color: #393b79\">         </span><span style=\"color: #ffffff; text-decoration-color: #ffffff; background-color: #d6616b\">         </span><span style=\"color: #ffffff; text-decoration-color: #ffffff; background-color: #8ca252\">         </span><span style=\"color: #ffffff; text-decoration-color: #ffffff; background-color: #de9ed6\">         </span>\n",
       "<span style=\"color: #ffffff; text-decoration-color: #ffffff; background-color: #393b79\">         </span><span style=\"color: #ffffff; text-decoration-color: #ffffff; background-color: #d6616b\">         </span><span style=\"color: #ffffff; text-decoration-color: #ffffff; background-color: #8ca252\">         </span><span style=\"color: #ffffff; text-decoration-color: #ffffff; background-color: #de9ed6\">         </span>\n",
       "<span style=\"color: #ffffff; text-decoration-color: #ffffff; background-color: #393b79\">         </span><span style=\"color: #ffffff; text-decoration-color: #ffffff; background-color: #d6616b\">         </span><span style=\"color: #ffffff; text-decoration-color: #ffffff; background-color: #8ca252\">         </span><span style=\"color: #ffffff; text-decoration-color: #ffffff; background-color: #de9ed6\">         </span>\n",
       "<span style=\"color: #000000; text-decoration-color: #000000; background-color: #e7cb94\">         </span><span style=\"color: #ffffff; text-decoration-color: #ffffff; background-color: #6b6ecf\">         </span><span style=\"color: #ffffff; text-decoration-color: #ffffff; background-color: #a55194\">         </span><span style=\"color: #ffffff; text-decoration-color: #ffffff; background-color: #8c6d31\">         </span>\n",
       "<span style=\"color: #000000; text-decoration-color: #000000; background-color: #e7cb94\">         </span><span style=\"color: #ffffff; text-decoration-color: #ffffff; background-color: #6b6ecf\">         </span><span style=\"color: #ffffff; text-decoration-color: #ffffff; background-color: #a55194\">         </span><span style=\"color: #ffffff; text-decoration-color: #ffffff; background-color: #8c6d31\">         </span>\n",
       "<span style=\"color: #000000; text-decoration-color: #000000; background-color: #e7cb94\">  GPU 1  </span><span style=\"color: #ffffff; text-decoration-color: #ffffff; background-color: #6b6ecf\">  GPU 3  </span><span style=\"color: #ffffff; text-decoration-color: #ffffff; background-color: #a55194\">  GPU 5  </span><span style=\"color: #ffffff; text-decoration-color: #ffffff; background-color: #8c6d31\">  GPU 7  </span>\n",
       "<span style=\"color: #000000; text-decoration-color: #000000; background-color: #e7cb94\">         </span><span style=\"color: #ffffff; text-decoration-color: #ffffff; background-color: #6b6ecf\">         </span><span style=\"color: #ffffff; text-decoration-color: #ffffff; background-color: #a55194\">         </span><span style=\"color: #ffffff; text-decoration-color: #ffffff; background-color: #8c6d31\">         </span>\n",
       "<span style=\"color: #000000; text-decoration-color: #000000; background-color: #e7cb94\">         </span><span style=\"color: #ffffff; text-decoration-color: #ffffff; background-color: #6b6ecf\">         </span><span style=\"color: #ffffff; text-decoration-color: #ffffff; background-color: #a55194\">         </span><span style=\"color: #ffffff; text-decoration-color: #ffffff; background-color: #8c6d31\">         </span>\n",
       "<span style=\"color: #000000; text-decoration-color: #000000; background-color: #e7cb94\">         </span><span style=\"color: #ffffff; text-decoration-color: #ffffff; background-color: #6b6ecf\">         </span><span style=\"color: #ffffff; text-decoration-color: #ffffff; background-color: #a55194\">         </span><span style=\"color: #ffffff; text-decoration-color: #ffffff; background-color: #8c6d31\">         </span>\n",
       "</pre>\n"
      ],
      "text/plain": [
       "\u001b[38;2;255;255;255;48;2;57;59;121m         \u001b[0m\u001b[38;2;255;255;255;48;2;214;97;107m         \u001b[0m\u001b[38;2;255;255;255;48;2;140;162;82m         \u001b[0m\u001b[38;2;255;255;255;48;2;222;158;214m         \u001b[0m\n",
       "\u001b[38;2;255;255;255;48;2;57;59;121m         \u001b[0m\u001b[38;2;255;255;255;48;2;214;97;107m         \u001b[0m\u001b[38;2;255;255;255;48;2;140;162;82m         \u001b[0m\u001b[38;2;255;255;255;48;2;222;158;214m         \u001b[0m\n",
       "\u001b[38;2;255;255;255;48;2;57;59;121m  \u001b[0m\u001b[38;2;255;255;255;48;2;57;59;121mGPU 0\u001b[0m\u001b[38;2;255;255;255;48;2;57;59;121m  \u001b[0m\u001b[38;2;255;255;255;48;2;214;97;107m  \u001b[0m\u001b[38;2;255;255;255;48;2;214;97;107mGPU 2\u001b[0m\u001b[38;2;255;255;255;48;2;214;97;107m  \u001b[0m\u001b[38;2;255;255;255;48;2;140;162;82m  \u001b[0m\u001b[38;2;255;255;255;48;2;140;162;82mGPU 4\u001b[0m\u001b[38;2;255;255;255;48;2;140;162;82m  \u001b[0m\u001b[38;2;255;255;255;48;2;222;158;214m  \u001b[0m\u001b[38;2;255;255;255;48;2;222;158;214mGPU 6\u001b[0m\u001b[38;2;255;255;255;48;2;222;158;214m  \u001b[0m\n",
       "\u001b[38;2;255;255;255;48;2;57;59;121m         \u001b[0m\u001b[38;2;255;255;255;48;2;214;97;107m         \u001b[0m\u001b[38;2;255;255;255;48;2;140;162;82m         \u001b[0m\u001b[38;2;255;255;255;48;2;222;158;214m         \u001b[0m\n",
       "\u001b[38;2;255;255;255;48;2;57;59;121m         \u001b[0m\u001b[38;2;255;255;255;48;2;214;97;107m         \u001b[0m\u001b[38;2;255;255;255;48;2;140;162;82m         \u001b[0m\u001b[38;2;255;255;255;48;2;222;158;214m         \u001b[0m\n",
       "\u001b[38;2;255;255;255;48;2;57;59;121m         \u001b[0m\u001b[38;2;255;255;255;48;2;214;97;107m         \u001b[0m\u001b[38;2;255;255;255;48;2;140;162;82m         \u001b[0m\u001b[38;2;255;255;255;48;2;222;158;214m         \u001b[0m\n",
       "\u001b[38;2;0;0;0;48;2;231;203;148m         \u001b[0m\u001b[38;2;255;255;255;48;2;107;110;207m         \u001b[0m\u001b[38;2;255;255;255;48;2;165;81;148m         \u001b[0m\u001b[38;2;255;255;255;48;2;140;109;49m         \u001b[0m\n",
       "\u001b[38;2;0;0;0;48;2;231;203;148m         \u001b[0m\u001b[38;2;255;255;255;48;2;107;110;207m         \u001b[0m\u001b[38;2;255;255;255;48;2;165;81;148m         \u001b[0m\u001b[38;2;255;255;255;48;2;140;109;49m         \u001b[0m\n",
       "\u001b[38;2;0;0;0;48;2;231;203;148m  \u001b[0m\u001b[38;2;0;0;0;48;2;231;203;148mGPU 1\u001b[0m\u001b[38;2;0;0;0;48;2;231;203;148m  \u001b[0m\u001b[38;2;255;255;255;48;2;107;110;207m  \u001b[0m\u001b[38;2;255;255;255;48;2;107;110;207mGPU 3\u001b[0m\u001b[38;2;255;255;255;48;2;107;110;207m  \u001b[0m\u001b[38;2;255;255;255;48;2;165;81;148m  \u001b[0m\u001b[38;2;255;255;255;48;2;165;81;148mGPU 5\u001b[0m\u001b[38;2;255;255;255;48;2;165;81;148m  \u001b[0m\u001b[38;2;255;255;255;48;2;140;109;49m  \u001b[0m\u001b[38;2;255;255;255;48;2;140;109;49mGPU 7\u001b[0m\u001b[38;2;255;255;255;48;2;140;109;49m  \u001b[0m\n",
       "\u001b[38;2;0;0;0;48;2;231;203;148m         \u001b[0m\u001b[38;2;255;255;255;48;2;107;110;207m         \u001b[0m\u001b[38;2;255;255;255;48;2;165;81;148m         \u001b[0m\u001b[38;2;255;255;255;48;2;140;109;49m         \u001b[0m\n",
       "\u001b[38;2;0;0;0;48;2;231;203;148m         \u001b[0m\u001b[38;2;255;255;255;48;2;107;110;207m         \u001b[0m\u001b[38;2;255;255;255;48;2;165;81;148m         \u001b[0m\u001b[38;2;255;255;255;48;2;140;109;49m         \u001b[0m\n",
       "\u001b[38;2;0;0;0;48;2;231;203;148m         \u001b[0m\u001b[38;2;255;255;255;48;2;107;110;207m         \u001b[0m\u001b[38;2;255;255;255;48;2;165;81;148m         \u001b[0m\u001b[38;2;255;255;255;48;2;140;109;49m         \u001b[0m\n"
      ]
     },
     "metadata": {},
     "output_type": "display_data"
    }
   ],
   "source": [
    "import numpy as np\n",
    "device_array = np.array(jax.devices()).reshape((4,2))\n",
    "print(device_array)\n",
    "mesh = jax.sharding.Mesh(device_array, [\"myaxis1\", \"myaxis2\"])\n",
    "p = jax.sharding.PartitionSpec(\"myaxis2\", \"myaxis1\")\n",
    "sharding = jax.sharding.NamedSharding(mesh, p)\n",
    "sharded_A = jax.device_put(A, sharding)\n",
    "jax.debug.visualize_array_sharding(sharded_A)"
   ]
  },
  {
   "cell_type": "code",
   "execution_count": null,
   "metadata": {
    "id": "cv0D_WHq9uD6"
   },
   "outputs": [],
   "source": [
    "sharded_A.addressable_shards[0].data.shape"
   ]
  },
  {
   "cell_type": "code",
   "execution_count": null,
   "metadata": {
    "id": "Vgq-E_dTpwGX"
   },
   "outputs": [],
   "source": [
    "import numpy as np\n",
    "import jax\n",
    "\n",
    "dim = 8\n",
    "A = jnp.ones((dim, dim, dim))\n",
    "\n",
    "# Step 1: Create device mesh (no names needed)\n",
    "device_array = np.array(jax.devices()).reshape((2, 2, 2))\n",
    "# Step 3: Create positional sharding object\n",
    "sharding = jax.sharding.PositionalSharding(device_array)\n",
    "\n",
    "# Step 4: Place array on devices\n",
    "sharded_A = jax.device_put(A, sharding)\n",
    "\n",
    "# Step 5: Visualize sharding\"\n",
    "#jax.debug.visualize_array_sharding(sharded_A)"
   ]
  },
  {
   "cell_type": "code",
   "execution_count": null,
   "metadata": {
    "id": "5MWmMumop2qa"
   },
   "outputs": [],
   "source": [
    "sharded_A.addressable_shards[0].data.shape"
   ]
  },
  {
   "cell_type": "code",
   "execution_count": null,
   "metadata": {
    "colab": {
     "base_uri": "https://localhost:8080/",
     "height": 211
    },
    "id": "GpuTxnrlbGxy",
    "outputId": "2e6222a0-d571-4778-ad6c-336a1d0a6f8e"
   },
   "outputs": [],
   "source": [
    "A = jnp.ones((1024, 1024))\n",
    "B = jnp.ones((1024, 1024))\n",
    "\n",
    "device_array = np.array(jax.devices()).reshape((2, 4))\n",
    "\n",
    "mesh = jax.sharding.Mesh(device_array, [\"myaxis1\", \"myaxis2\"])\n",
    "\n",
    "p_A = jax.sharding.PartitionSpec(\"myaxis1\", \"myaxis2\")\n",
    "p_B = jax.sharding.PartitionSpec(\"myaxis2\", \"myaxis1\")\n",
    "\n",
    "sharding_A = jax.sharding.NamedSharding(mesh, p_A)\n",
    "sharding_B = jax.sharding.NamedSharding(mesh, p_B)\n",
    "\n",
    "sharded_A = jax.device_put(A, sharding_A)\n",
    "jax.debug.visualize_array_sharding(sharded_A)\n",
    "\n",
    "sharded_B = jax.device_put(B, sharding_B)\n",
    "jax.debug.visualize_array_sharding(sharded_B)\n",
    "\n",
    "C = sharded_A + sharded_B\n",
    "jax.debug.visualize_array_sharding(C)"
   ]
  },
  {
   "cell_type": "code",
   "execution_count": null,
   "metadata": {
    "colab": {
     "base_uri": "https://localhost:8080/",
     "height": 1000
    },
    "id": "fSSMs3D4fo-o",
    "outputId": "9996eca5-aff9-4817-ac02-9f2a902cb51e"
   },
   "outputs": [],
   "source": [
    "A = jnp.ones((2**16, 2**15))\n",
    "jax.debug.visualize_array_sharding(A)"
   ]
  },
  {
   "cell_type": "code",
   "execution_count": 11,
   "metadata": {
    "colab": {
     "base_uri": "https://localhost:8080/"
    },
    "id": "MAAgXbMGqBYk",
    "outputId": "fbe0c029-39d6-42a5-8914-dc6244cc1763"
   },
   "outputs": [
    {
     "name": "stdout",
     "output_type": "stream",
     "text": [
      "/tmp/t_unshard_array_IFIG6IZ4RA\n"
     ]
    },
    {
     "name": "stderr",
     "output_type": "stream",
     "text": [
      "2025-05-25 15:51:05.127682: W external/xla/xla/hlo/transforms/simplifiers/hlo_rematerialization.cc:3021] Can't reduce memory use below 6.96GiB (7471197388 bytes) by rematerialization; only reduced to 8.50GiB (9126805520 bytes), down from 8.50GiB (9126805520 bytes) originally\n"
     ]
    },
    {
     "name": "stdout",
     "output_type": "stream",
     "text": [
      "32.6342\n",
      "65.804697158196\n"
     ]
    }
   ],
   "source": [
    "from functools import partial\n",
    "import jax\n",
    "import numpy as np\n",
    "\n",
    "ROWS = 2**15\n",
    "COLS = 2**15\n",
    "\n",
    "#A = np.ones((ROWS, COLS), dtype=np.float16)\n",
    "A = jnp.ones((ROWS, COLS), dtype=jnp.bfloat16)\n",
    "mesh = jax.sharding.Mesh(jax.devices(), (\"ouraxis\"))\n",
    "sharded_sharding = jax.sharding.NamedSharding(mesh, jax.sharding.PartitionSpec(\"ouraxis\"))\n",
    "unsharded_sharding = jax.sharding.NamedSharding(mesh, jax.sharding.PartitionSpec(None))\n",
    "\n",
    "#@jax.jit\n",
    "#def alloc_array(input):\n",
    "#    return jnp.array(input, dtype=jnp.bfloat16)\n",
    "#avg_time = timeit(alloc_array, A, task=\"alloc_array\")\n",
    "\n",
    "#@partial(jax.jit, out_shardings = sharded_sharding)\n",
    "#def shard_array(input):\n",
    "#    return input\n",
    "#avg_time = timeit(shard_array, A, task='shard_array')\n",
    "    \n",
    "#A_sharded = jax.device_put(A, sharded_sharding)\n",
    "\n",
    "\n",
    "@partial(jax.jit, out_shardings = unsharded_sharding)\n",
    "def unshard_array(input):\n",
    "  return input\n",
    "\n",
    "avg_time = timeit(unshard_array, A_sharded, task='unshard_array')\n",
    "print(avg_time)\n",
    "\n",
    "achieved_bandwidth_GB_s = A.size * 2 / 10**9 / (avg_time / 10**3)\n",
    "print(achieved_bandwidth_GB_s)\n"
   ]
  },
  {
   "cell_type": "code",
   "execution_count": null,
   "metadata": {},
   "outputs": [],
   "source": [
    "import os\n",
    "\n",
    "#os.environ[\"LIBTPU_INIT_ARGS\"] = \"--xla_enable_async_all_gather=true TPU_MEGACORE=MEGACORE_DENSE\"\n",
    "\n",
    "SIZE = 16384\n",
    "BATCH_PER_CHIP = 4096\n",
    "LAYERS = 4\n",
    "\n",
    "ACTIVATIONS = jnp.ones((BATCH_PER_CHIP*jax.device_count(), SIZE), dtype=jnp.bfloat16)\n",
    "Ws = [jnp.ones((SIZE, SIZE), dtype=jnp.bfloat16) for i in range(LAYERS)]\n",
    "\n",
    "mesh = jax.sharding.Mesh(jax.devices(), ('ouraxis'))\n",
    "activation_sharding = jax.sharding.NamedSharding(mesh, jax.sharding.PartitionSpec('ouraxis', None))\n",
    "weight_sharding = jax.sharding.NamedSharding(mesh, jax.sharding.PartitionSpec('ouraxis'))\n",
    "\n",
    "ACTIVATIONS = jax.device_put(ACTIVATIONS, activation_sharding)\n",
    "Ws = [ jax.device_put(W, weight_sharding) for W in Ws ]\n",
    "\n",
    "@jax.jit\n",
    "def matmul(_act, _weights):\n",
    "    for _weight in _weights: \n",
    "        _act =  _act @ _weight\n",
    "    return _act\n",
    "\n",
    "average_time_ms = timeit(matmul, ACTIVATIONS, Ws, task=\"unshard_array\")\n",
    "print(f\"{average_time_ms=}\")\n",
    "#achieved_bandwidth_GB_s = A.size * 2 / 10**9 / (average_time_ms / 10**3)\n",
    "#print(f\"{achieved_bandwidth_GB_s=}\")"
   ]
  },
  {
   "cell_type": "code",
   "execution_count": null,
   "metadata": {},
   "outputs": [],
   "source": [
    "import jax\n",
    "import jax.nn as nn\n",
    "import jax.numpy as jnp\n",
    "\n",
    "BATCH = 1\n",
    "HEADS = 4 \n",
    "SEQUENCE = 2048\n",
    "HEAD_DIM = 128\n",
    "\n",
    "Q = jax.random.normal( jax.random.key(0), (BATCH, SEQUENCE, HEADS, HEAD_DIM))\n",
    "K = jax.random.normal( jax.random.key(0), (BATCH, SEQUENCE, HEADS, HEAD_DIM))\n",
    "V = jax.random.normal( jax.random.key(0), (BATCH, SEQUENCE, HEADS, HEAD_DIM))\n",
    "\n",
    "def attention(_Q, _K, _V):\n",
    "    _weights_unnormalized = jnp.einsum(\"BSHD,BTHD->BHST\", _Q, _K)\n",
    "    _weights = nn.softmax(_weights_unnormalized)\n",
    "    output = jax.numpy.einsum(\"BHST,BTHD->BSHD\", _weights, _V)\n",
    "    return output\n",
    "\n",
    "attention(Q, K, V)\n",
    "\n",
    "attn_value = nn.dot_product_attention(Q, K, V)"
   ]
  },
  {
   "cell_type": "code",
   "execution_count": null,
   "metadata": {},
   "outputs": [],
   "source": []
  }
 ],
 "metadata": {
  "accelerator": "TPU",
  "colab": {
   "gpuType": "V28",
   "machine_shape": "hm",
   "provenance": []
  },
  "kernelspec": {
   "display_name": ".venv",
   "language": "python",
   "name": "python3"
  },
  "language_info": {
   "codemirror_mode": {
    "name": "ipython",
    "version": 3
   },
   "file_extension": ".py",
   "mimetype": "text/x-python",
   "name": "python",
   "nbconvert_exporter": "python",
   "pygments_lexer": "ipython3",
   "version": "3.12.8"
  }
 },
 "nbformat": 4,
 "nbformat_minor": 4
}
