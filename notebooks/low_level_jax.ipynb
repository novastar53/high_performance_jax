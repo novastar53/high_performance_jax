{
 "cells": [
  {
   "cell_type": "code",
   "execution_count": 1,
   "metadata": {},
   "outputs": [],
   "source": [
    "import os\n",
    "os.environ[\"XLA_FLAGS\"] = '--xla_force_host_platform_device_count=2'"
   ]
  },
  {
   "cell_type": "markdown",
   "metadata": {},
   "source": [
    "## Basic Data Parallel Training Example"
   ]
  },
  {
   "cell_type": "code",
   "execution_count": 10,
   "metadata": {},
   "outputs": [],
   "source": [
    "from functools import partial\n",
    "\n",
    "import jax\n",
    "import jax.numpy as jnp\n",
    "from jax import value_and_grad, jit\n",
    "\n",
    "def init_params():\n",
    "    W = jnp.ones((2, 2))\n",
    "    b = jnp.zeros((2,))\n",
    "    return W, b\n",
    "\n",
    "def forward(params, x):\n",
    "    W, b = params\n",
    "    return x @ W + b\n",
    "\n",
    "def loss_fn(params, x, y):\n",
    "    pred = forward(params, x)\n",
    "    return jnp.mean((pred - y) ** 2)\n",
    "\n",
    "@partial(jax.pmap, axis_name=(\"i\"))\n",
    "def train_step(params, x, y):\n",
    "    # Compute per-device loss and grads\n",
    "    loss, grads = value_and_grad(loss_fn)(params, x, y)\n",
    "\n",
    "    # Use lax.psum to manually average across devices (if using with `pmap`)\n",
    "    grads = jax.tree_map(lambda g: jax.lax.pmean(g, axis_name='i'), grads)\n",
    "\n",
    "    # Update parameters\n",
    "    new_params = jax.tree_map(lambda p, g: p - 0.01 * g, params, grads)\n",
    "    return new_params, loss"
   ]
  },
  {
   "cell_type": "code",
   "execution_count": 11,
   "metadata": {},
   "outputs": [],
   "source": [
    "from jax.debug import visualize_array_sharding as viz\n",
    "\n",
    "# Get available devices\n",
    "devices = jax.local_devices()\n",
    "\n",
    "B, C = 8, 2\n",
    "\n",
    "key = jax.random.key(0)\n",
    "x = jax.random.normal(jax.random.key(0), (B, C))\n",
    "y = jax.random.normal(jax.random.key(1), (B, C))\n",
    "\n",
    "# Replicate model params across devices\n",
    "params = init_params()\n",
    "replicated_params = jax.device_put_replicated(params, devices)\n",
    "#viz(replicated_params[0][7])\n",
    "\n",
    "# Perform one training step\n",
    "new_params, loss = train_step(replicated_params, x, y)"
   ]
  },
  {
   "cell_type": "markdown",
   "metadata": {},
   "source": [
    "## Basic All-to-All Example"
   ]
  },
  {
   "cell_type": "code",
   "execution_count": 5,
   "metadata": {},
   "outputs": [
    {
     "name": "stdout",
     "output_type": "stream",
     "text": [
      "[CpuDevice(id=0), CpuDevice(id=1)]\n",
      "[[1. 1. 1.]\n",
      " [1. 1. 1.]\n",
      " [1. 1. 1.]]\n",
      "[[[ 1.6226422   2.0252647  -0.43359444]\n",
      "  [-0.07861735  0.1760909  -0.97208923]]\n",
      "\n",
      " [[-0.49529874  0.4943786   0.6643493 ]\n",
      "  [-0.9501635   2.1795304  -1.9551506 ]]]\n"
     ]
    },
    {
     "data": {
      "text/html": [
       "<pre style=\"white-space:pre;overflow-x:auto;line-height:normal;font-family:Menlo,'DejaVu Sans Mono',consolas,'Courier New',monospace\"><span style=\"color: #ffffff; text-decoration-color: #ffffff; background-color: #393b79\">                                     </span>\n",
       "<span style=\"color: #ffffff; text-decoration-color: #ffffff; background-color: #393b79\">                                     </span>\n",
       "<span style=\"color: #ffffff; text-decoration-color: #ffffff; background-color: #393b79\">                                     </span>\n",
       "<span style=\"color: #ffffff; text-decoration-color: #ffffff; background-color: #393b79\">                                     </span>\n",
       "<span style=\"color: #ffffff; text-decoration-color: #ffffff; background-color: #393b79\">                                     </span>\n",
       "<span style=\"color: #ffffff; text-decoration-color: #ffffff; background-color: #393b79\">                CPU 0                </span>\n",
       "<span style=\"color: #ffffff; text-decoration-color: #ffffff; background-color: #393b79\">                                     </span>\n",
       "<span style=\"color: #ffffff; text-decoration-color: #ffffff; background-color: #393b79\">                                     </span>\n",
       "<span style=\"color: #ffffff; text-decoration-color: #ffffff; background-color: #393b79\">                                     </span>\n",
       "<span style=\"color: #ffffff; text-decoration-color: #ffffff; background-color: #393b79\">                                     </span>\n",
       "<span style=\"color: #ffffff; text-decoration-color: #ffffff; background-color: #393b79\">                                     </span>\n",
       "</pre>\n"
      ],
      "text/plain": [
       "\u001b[38;2;255;255;255;48;2;57;59;121m                                     \u001b[0m\n",
       "\u001b[38;2;255;255;255;48;2;57;59;121m                                     \u001b[0m\n",
       "\u001b[38;2;255;255;255;48;2;57;59;121m                                     \u001b[0m\n",
       "\u001b[38;2;255;255;255;48;2;57;59;121m                                     \u001b[0m\n",
       "\u001b[38;2;255;255;255;48;2;57;59;121m                                     \u001b[0m\n",
       "\u001b[38;2;255;255;255;48;2;57;59;121m                \u001b[0m\u001b[38;2;255;255;255;48;2;57;59;121mCPU 0\u001b[0m\u001b[38;2;255;255;255;48;2;57;59;121m                \u001b[0m\n",
       "\u001b[38;2;255;255;255;48;2;57;59;121m                                     \u001b[0m\n",
       "\u001b[38;2;255;255;255;48;2;57;59;121m                                     \u001b[0m\n",
       "\u001b[38;2;255;255;255;48;2;57;59;121m                                     \u001b[0m\n",
       "\u001b[38;2;255;255;255;48;2;57;59;121m                                     \u001b[0m\n",
       "\u001b[38;2;255;255;255;48;2;57;59;121m                                     \u001b[0m\n"
      ]
     },
     "metadata": {},
     "output_type": "display_data"
    },
    {
     "name": "stdout",
     "output_type": "stream",
     "text": [
      "(2, 2, 3)\n",
      "[[[ 0.          0.          0.        ]\n",
      "  [-0.87461567 -0.87461567 -0.87461567]]\n",
      "\n",
      " [[ 0.          0.          0.        ]\n",
      "  [-0.7257837  -0.7257837  -0.7257837 ]]]\n"
     ]
    },
    {
     "data": {
      "text/html": [
       "<pre style=\"white-space:pre;overflow-x:auto;line-height:normal;font-family:Menlo,'DejaVu Sans Mono',consolas,'Courier New',monospace\"><span style=\"color: #ffffff; text-decoration-color: #ffffff; background-color: #393b79\">                                     </span>\n",
       "<span style=\"color: #ffffff; text-decoration-color: #ffffff; background-color: #393b79\">                                     </span>\n",
       "<span style=\"color: #ffffff; text-decoration-color: #ffffff; background-color: #393b79\">                                     </span>\n",
       "<span style=\"color: #ffffff; text-decoration-color: #ffffff; background-color: #393b79\">                                     </span>\n",
       "<span style=\"color: #ffffff; text-decoration-color: #ffffff; background-color: #393b79\">                                     </span>\n",
       "<span style=\"color: #ffffff; text-decoration-color: #ffffff; background-color: #393b79\">                CPU 0                </span>\n",
       "<span style=\"color: #ffffff; text-decoration-color: #ffffff; background-color: #393b79\">                                     </span>\n",
       "<span style=\"color: #ffffff; text-decoration-color: #ffffff; background-color: #393b79\">                                     </span>\n",
       "<span style=\"color: #ffffff; text-decoration-color: #ffffff; background-color: #393b79\">                                     </span>\n",
       "<span style=\"color: #ffffff; text-decoration-color: #ffffff; background-color: #393b79\">                                     </span>\n",
       "<span style=\"color: #ffffff; text-decoration-color: #ffffff; background-color: #393b79\">                                     </span>\n",
       "</pre>\n"
      ],
      "text/plain": [
       "\u001b[38;2;255;255;255;48;2;57;59;121m                                     \u001b[0m\n",
       "\u001b[38;2;255;255;255;48;2;57;59;121m                                     \u001b[0m\n",
       "\u001b[38;2;255;255;255;48;2;57;59;121m                                     \u001b[0m\n",
       "\u001b[38;2;255;255;255;48;2;57;59;121m                                     \u001b[0m\n",
       "\u001b[38;2;255;255;255;48;2;57;59;121m                                     \u001b[0m\n",
       "\u001b[38;2;255;255;255;48;2;57;59;121m                \u001b[0m\u001b[38;2;255;255;255;48;2;57;59;121mCPU 0\u001b[0m\u001b[38;2;255;255;255;48;2;57;59;121m                \u001b[0m\n",
       "\u001b[38;2;255;255;255;48;2;57;59;121m                                     \u001b[0m\n",
       "\u001b[38;2;255;255;255;48;2;57;59;121m                                     \u001b[0m\n",
       "\u001b[38;2;255;255;255;48;2;57;59;121m                                     \u001b[0m\n",
       "\u001b[38;2;255;255;255;48;2;57;59;121m                                     \u001b[0m\n",
       "\u001b[38;2;255;255;255;48;2;57;59;121m                                     \u001b[0m\n"
      ]
     },
     "metadata": {},
     "output_type": "display_data"
    }
   ],
   "source": [
    "from functools import partial\n",
    "import jax \n",
    "import jax.numpy as jnp\n",
    "\n",
    "print(jax.devices())\n",
    "\n",
    "W = jnp.stack([\n",
    "   jnp.zeros((3, 3)), \n",
    "   jnp.ones((3, 3)),\n",
    "])\n",
    "\n",
    "print(W[1])\n",
    "\n",
    "x = jax.random.normal(jax.random.key(0), shape=(2, 2, 3))\n",
    "print(x)\n",
    "jax.debug.visualize_array_sharding(x[0])\n",
    " \n",
    "@partial(jax.pmap, axis_name=\"i\")\n",
    "def step(W, x):\n",
    "   device_index = jax.lax.axis_index(\"i\")\n",
    "   y = jax.lax.all_to_all(x, \"i\", 0, 0)\n",
    "   y = y @ W\n",
    "   z = jax.lax.all_to_all(y, \"i\", 0, 0)\n",
    "   return z\n",
    "\n",
    "y = step(W, x)\n",
    "print(y.shape)\n",
    "print(y)\n",
    "jax.debug.visualize_array_sharding(y[0])"
   ]
  },
  {
   "cell_type": "code",
   "execution_count": null,
   "metadata": {},
   "outputs": [],
   "source": []
  },
  {
   "cell_type": "code",
   "execution_count": null,
   "metadata": {},
   "outputs": [],
   "source": []
  },
  {
   "cell_type": "code",
   "execution_count": null,
   "metadata": {},
   "outputs": [],
   "source": []
  },
  {
   "cell_type": "code",
   "execution_count": null,
   "metadata": {},
   "outputs": [],
   "source": []
  }
 ],
 "metadata": {
  "kernelspec": {
   "display_name": ".venv",
   "language": "python",
   "name": "python3"
  },
  "language_info": {
   "codemirror_mode": {
    "name": "ipython",
    "version": 3
   },
   "file_extension": ".py",
   "mimetype": "text/x-python",
   "name": "python",
   "nbconvert_exporter": "python",
   "pygments_lexer": "ipython3",
   "version": "3.12.8"
  }
 },
 "nbformat": 4,
 "nbformat_minor": 2
}
