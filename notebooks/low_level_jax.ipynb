{
 "cells": [
  {
   "cell_type": "code",
   "execution_count": 1,
   "metadata": {},
   "outputs": [],
   "source": [
    "import os\n",
    "os.environ[\"XLA_FLAGS\"] = '--xla_force_host_platform_device_count=8'"
   ]
  },
  {
   "cell_type": "markdown",
   "metadata": {},
   "source": [
    "## Basic Data Parallel Training Example"
   ]
  },
  {
   "cell_type": "code",
   "execution_count": 10,
   "metadata": {},
   "outputs": [],
   "source": [
    "from functools import partial\n",
    "\n",
    "import jax\n",
    "import jax.numpy as jnp\n",
    "from jax import value_and_grad, jit\n",
    "\n",
    "def init_params():\n",
    "    W = jnp.ones((2, 2))\n",
    "    b = jnp.zeros((2,))\n",
    "    return W, b\n",
    "\n",
    "def forward(params, x):\n",
    "    W, b = params\n",
    "    return x @ W + b\n",
    "\n",
    "def loss_fn(params, x, y):\n",
    "    pred = forward(params, x)\n",
    "    return jnp.mean((pred - y) ** 2)\n",
    "\n",
    "@partial(jax.pmap, axis_name=(\"i\"))\n",
    "def train_step(params, x, y):\n",
    "    # Compute per-device loss and grads\n",
    "    loss, grads = value_and_grad(loss_fn)(params, x, y)\n",
    "\n",
    "    # Use lax.psum to manually average across devices (if using with `pmap`)\n",
    "    grads = jax.tree_map(lambda g: jax.lax.pmean(g, axis_name='i'), grads)\n",
    "\n",
    "    # Update parameters\n",
    "    new_params = jax.tree_map(lambda p, g: p - 0.01 * g, params, grads)\n",
    "    return new_params, loss"
   ]
  },
  {
   "cell_type": "code",
   "execution_count": 11,
   "metadata": {},
   "outputs": [],
   "source": [
    "from jax.debug import visualize_array_sharding as viz\n",
    "\n",
    "# Get available devices\n",
    "devices = jax.local_devices()\n",
    "\n",
    "B, C = 8, 2\n",
    "\n",
    "key = jax.random.key(0)\n",
    "x = jax.random.normal(jax.random.key(0), (B, C))\n",
    "y = jax.random.normal(jax.random.key(1), (B, C))\n",
    "\n",
    "# Replicate model params across devices\n",
    "params = init_params()\n",
    "replicated_params = jax.device_put_replicated(params, devices)\n",
    "#viz(replicated_params[0][7])\n",
    "\n",
    "# Perform one training step\n",
    "new_params, loss = train_step(replicated_params, x, y)"
   ]
  },
  {
   "cell_type": "markdown",
   "metadata": {},
   "source": [
    "## Basic All-to-All Example"
   ]
  },
  {
   "cell_type": "code",
   "execution_count": null,
   "metadata": {},
   "outputs": [],
   "source": []
  },
  {
   "cell_type": "code",
   "execution_count": null,
   "metadata": {},
   "outputs": [],
   "source": []
  }
 ],
 "metadata": {
  "kernelspec": {
   "display_name": ".venv",
   "language": "python",
   "name": "python3"
  },
  "language_info": {
   "codemirror_mode": {
    "name": "ipython",
    "version": 3
   },
   "file_extension": ".py",
   "mimetype": "text/x-python",
   "name": "python",
   "nbconvert_exporter": "python",
   "pygments_lexer": "ipython3",
   "version": "3.12.8"
  }
 },
 "nbformat": 4,
 "nbformat_minor": 2
}
