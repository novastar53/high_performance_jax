{
 "cells": [
  {
   "cell_type": "code",
   "execution_count": 1,
   "metadata": {},
   "outputs": [],
   "source": [
    "import os\n",
    "os.environ[\"XLA_FLAGS\"] = '--xla_force_host_platform_device_count=2'"
   ]
  },
  {
   "cell_type": "markdown",
   "metadata": {},
   "source": [
    "## Basic Data Parallel Training Example"
   ]
  },
  {
   "cell_type": "code",
   "execution_count": 10,
   "metadata": {},
   "outputs": [],
   "source": [
    "from functools import partial\n",
    "\n",
    "import jax\n",
    "import jax.numpy as jnp\n",
    "from jax import value_and_grad, jit\n",
    "\n",
    "def init_params():\n",
    "    W = jnp.ones((2, 2))\n",
    "    b = jnp.zeros((2,))\n",
    "    return W, b\n",
    "\n",
    "def forward(params, x):\n",
    "    W, b = params\n",
    "    return x @ W + b\n",
    "\n",
    "def loss_fn(params, x, y):\n",
    "    pred = forward(params, x)\n",
    "    return jnp.mean((pred - y) ** 2)\n",
    "\n",
    "@partial(jax.pmap, axis_name=(\"i\"))\n",
    "def train_step(params, x, y):\n",
    "    # Compute per-device loss and grads\n",
    "    loss, grads = value_and_grad(loss_fn)(params, x, y)\n",
    "\n",
    "    # Use lax.psum to manually average across devices (if using with `pmap`)\n",
    "    grads = jax.tree_map(lambda g: jax.lax.pmean(g, axis_name='i'), grads)\n",
    "\n",
    "    # Update parameters\n",
    "    new_params = jax.tree_map(lambda p, g: p - 0.01 * g, params, grads)\n",
    "    return new_params, loss"
   ]
  },
  {
   "cell_type": "code",
   "execution_count": 11,
   "metadata": {},
   "outputs": [],
   "source": [
    "from jax.debug import visualize_array_sharding as viz\n",
    "\n",
    "# Get available devices\n",
    "devices = jax.local_devices()\n",
    "\n",
    "B, C = 8, 2\n",
    "\n",
    "key = jax.random.key(0)\n",
    "x = jax.random.normal(jax.random.key(0), (B, C))\n",
    "y = jax.random.normal(jax.random.key(1), (B, C))\n",
    "\n",
    "# Replicate model params across devices\n",
    "params = init_params()\n",
    "replicated_params = jax.device_put_replicated(params, devices)\n",
    "#viz(replicated_params[0][7])\n",
    "\n",
    "# Perform one training step\n",
    "new_params, loss = train_step(replicated_params, x, y)"
   ]
  },
  {
   "cell_type": "markdown",
   "metadata": {},
   "source": [
    "## Basic All-to-All Example"
   ]
  },
  {
   "cell_type": "code",
   "execution_count": 13,
   "metadata": {},
   "outputs": [
    {
     "name": "stdout",
     "output_type": "stream",
     "text": [
      "[CpuDevice(id=0), CpuDevice(id=1)]\n",
      "[[[[ 1.6226422   2.0252647  -0.43359444]\n",
      "   [-0.07861735  0.1760909  -0.97208923]\n",
      "   [-0.49529874  0.4943786   0.6643493 ]\n",
      "   [-0.9501635   2.1795304  -1.9551506 ]\n",
      "   [ 0.35857072  0.15779513  1.2770847 ]]\n",
      "\n",
      "  [[ 1.5104648   0.970656    0.59960806]\n",
      "   [ 0.0247007  -1.9164772  -1.8593491 ]\n",
      "   [ 1.728144    0.04719035  0.814128  ]\n",
      "   [ 0.13132767  0.28284705  1.2435943 ]\n",
      "   [ 0.6902801  -0.80073744 -0.74099   ]]]\n",
      "\n",
      "\n",
      " [[[-1.5388287   0.30269185 -0.02071605]\n",
      "   [ 0.11328721 -0.2206547   0.07052256]\n",
      "   [ 0.8532958  -0.8217738  -0.01461421]\n",
      "   [-0.15046217 -0.9001352  -0.7590727 ]\n",
      "   [ 0.33309513  0.80924904  0.04269255]]\n",
      "\n",
      "  [[-0.57767123 -0.41439894 -1.9412533 ]\n",
      "   [ 1.3161184   0.7542728   0.16170931]\n",
      "   [-0.03483307 -1.3306409   0.39362028]\n",
      "   [ 0.48259583  0.80382955 -0.6337168 ]\n",
      "   [ 1.038756   -0.74159133 -0.4299588 ]]]]\n",
      "(2, 2, 5, 3)\n",
      "[[[[ 0.          0.          0.        ]\n",
      "   [ 0.          0.          0.        ]\n",
      "   [ 0.          0.          0.        ]\n",
      "   [ 0.          0.          0.        ]\n",
      "   [ 0.          0.          0.        ]]\n",
      "\n",
      "  [[ 3.080729    3.080729    3.080729  ]\n",
      "   [-3.7511256  -3.7511256  -3.7511256 ]\n",
      "   [ 2.5894623   2.5894623   2.5894623 ]\n",
      "   [ 1.657769    1.657769    1.657769  ]\n",
      "   [-0.85144734 -0.85144734 -0.85144734]]]\n",
      "\n",
      "\n",
      " [[[ 0.          0.          0.        ]\n",
      "   [ 0.          0.          0.        ]\n",
      "   [ 0.          0.          0.        ]\n",
      "   [ 0.          0.          0.        ]\n",
      "   [ 0.          0.          0.        ]]\n",
      "\n",
      "  [[-2.9333234  -2.9333234  -2.9333234 ]\n",
      "   [ 2.2321005   2.2321005   2.2321005 ]\n",
      "   [-0.97185373 -0.97185373 -0.97185373]\n",
      "   [ 0.65270853  0.65270853  0.65270853]\n",
      "   [-0.13279411 -0.13279411 -0.13279411]]]]\n"
     ]
    }
   ],
   "source": [
    "from functools import partial\n",
    "import jax \n",
    "import jax.numpy as jnp\n",
    "from jax.sharding import Mesh, PartitionSpec, NamedSharding\n",
    "\n",
    "print(jax.devices())\n",
    "mesh = Mesh(jax.devices(), (\"devices\",))\n",
    "spec = PartitionSpec(\"devices\")\n",
    "sharding = NamedSharding(mesh, spec)\n",
    "\n",
    "W = jnp.stack([\n",
    "   jnp.zeros((3, 3)), \n",
    "   jnp.ones((3, 3)),\n",
    "])\n",
    "\n",
    "W = jax.device_put(W, sharding)\n",
    "\n",
    "x = jax.random.normal(jax.random.key(0), shape=(2, 2, 5, 3))\n",
    "print(x)\n",
    "#jax.debug.visualize_array_sharding(x[0])\n",
    " \n",
    "@partial(jax.pmap, axis_name=\"i\")\n",
    "def step(x):\n",
    "   device_index = jax.lax.axis_index(\"i\")\n",
    "   y = jax.lax.all_to_all(x, \"i\", 0, 0)\n",
    "   y = y @ W[device_index]\n",
    "   z = jax.lax.all_to_all(y, \"i\", 0, 0)\n",
    "   return z\n",
    "\n",
    "y = step(x)\n",
    "print(y.shape)\n",
    "print(y)\n",
    "#jax.debug.visualize_array_sharding(y[1])"
   ]
  }
 ],
 "metadata": {
  "kernelspec": {
   "display_name": ".venv",
   "language": "python",
   "name": "python3"
  },
  "language_info": {
   "codemirror_mode": {
    "name": "ipython",
    "version": 3
   },
   "file_extension": ".py",
   "mimetype": "text/x-python",
   "name": "python",
   "nbconvert_exporter": "python",
   "pygments_lexer": "ipython3",
   "version": "3.12.8"
  }
 },
 "nbformat": 4,
 "nbformat_minor": 2
}
