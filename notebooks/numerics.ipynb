{
 "cells": [
  {
   "cell_type": "markdown",
   "metadata": {},
   "source": [
    "# Numerics\n",
    "\n"
   ]
  },
  {
   "cell_type": "code",
   "execution_count": 1,
   "metadata": {},
   "outputs": [],
   "source": [
    "import os\n",
    "\n",
    "os.environ[\"JAX_ENABLE_X64\"] = \"true\""
   ]
  },
  {
   "cell_type": "code",
   "execution_count": 12,
   "metadata": {},
   "outputs": [
    {
     "name": "stdout",
     "output_type": "stream",
     "text": [
      "<class 'jaxlib.xla_extension.ArrayImpl'>\n",
      "1.9395054106806993 1.9395054106806993\n",
      "1.939505410680722 1.939505410680722\n"
     ]
    }
   ],
   "source": [
    "import random\n",
    "\n",
    "import jax\n",
    "import jax.numpy as jnp\n",
    "\n",
    "A1 = [jnp.sin(x) for x in list(range(10000))]\n",
    "A2 = [jnp.sin(x) for x in list(range(10000))]\n",
    "random.shuffle(A2)\n",
    "\n",
    "sum_A1 = sum(A1)\n",
    "print(type(sum_A1))\n",
    "print(sum(A1), sum(A1))\n",
    "print(sum(A2), sum(A2))\n"
   ]
  },
  {
   "cell_type": "code",
   "execution_count": 19,
   "metadata": {},
   "outputs": [
    {
     "name": "stdout",
     "output_type": "stream",
     "text": [
      "True\n",
      "True\n"
     ]
    }
   ],
   "source": [
    "print(jnp.isdtype('float8_e4m3fnuz', 'real floating'))\n",
    "print(jnp.isdtype('float8_e5m2fnuz', 'real floating'))\n"
   ]
  },
  {
   "cell_type": "code",
   "execution_count": 21,
   "metadata": {},
   "outputs": [
    {
     "name": "stdout",
     "output_type": "stream",
     "text": [
      "1.9395054106806993\n",
      "1.9395063505544385\n",
      "1.9456425\n",
      "1.9409133\n"
     ]
    }
   ],
   "source": [
    "def jax_sum_f64(input_vec):\n",
    "    accumulator = jnp.zeros((1), dtype=jnp.float64)\n",
    "    for x in input_vec:\n",
    "        accumulator += jnp.asarray(x, dtype=jnp.float64)\n",
    "        accumulator = jnp.asarray(accumulator, dtype=jnp.float64)\n",
    "    return accumulator\n",
    "\n",
    "print(jax_sum_f64(A1)[0])\n",
    "\n",
    "\n",
    "def jax_sum_f32_accum_f64(input_vec):\n",
    "    accumulator = jnp.zeros((1), dtype=jnp.float64)\n",
    "    for x in input_vec:\n",
    "        accumulator += jnp.asarray(x, dtype=jnp.float32)\n",
    "        accumulator = jnp.asarray(accumulator, dtype=jnp.float64)\n",
    "    return accumulator\n",
    "\n",
    "print(jax_sum_f32_accum_f64(A1)[0])\n",
    "\n",
    "\n",
    "def jax_sum_f16_accum_f32(input_vec):\n",
    "    accumulator = jnp.zeros((1), dtype=jnp.float32)\n",
    "    for x in input_vec:\n",
    "        accumulator += jnp.asarray(x, dtype=jnp.float16)\n",
    "        accumulator = jnp.asarray(accumulator, dtype=jnp.float32)\n",
    "    return accumulator\n",
    "\n",
    "print(jax_sum_f16_accum_f32(A1)[0])\n",
    "\n",
    "\n",
    "def jax_sum_bf16_accum_f32(input_vec):\n",
    "    accumulator = jnp.zeros((1), dtype=jnp.float32)\n",
    "    for x in input_vec:\n",
    "        accumulator += jnp.asarray(x, dtype=jnp.bfloat16)\n",
    "        accumulator = jnp.asarray(accumulator, dtype=jnp.float32)\n",
    "    return accumulator\n",
    "\n",
    "print(jax_sum_bf16_accum_f32(A1)[0])\n",
    "\n",
    "\n",
    "#def jax_sum_f8_accum_f32(input_vec):\n",
    "#    accumulator = jnp.zeros((1), dtype=jnp.float32)\n",
    "#    for x in input_vec:\n",
    "#        accumulator += jnp.asarray(x, dtype=jnp.float8_e5m2fnuz)\n",
    "#        accumulator = jnp.asarray(accumulator, dtype=jnp.float32)\n",
    "#    return accumulator\n",
    "\n",
    "#print(jax_sum_f8_accum_f32(A1)[0])"
   ]
  }
 ],
 "metadata": {
  "kernelspec": {
   "display_name": ".venv",
   "language": "python",
   "name": "python3"
  },
  "language_info": {
   "codemirror_mode": {
    "name": "ipython",
    "version": 3
   },
   "file_extension": ".py",
   "mimetype": "text/x-python",
   "name": "python",
   "nbconvert_exporter": "python",
   "pygments_lexer": "ipython3",
   "version": "3.12.8"
  }
 },
 "nbformat": 4,
 "nbformat_minor": 2
}
